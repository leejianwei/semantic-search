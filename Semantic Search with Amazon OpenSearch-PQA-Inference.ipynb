{
 "cells": [
  {
   "cell_type": "markdown",
   "id": "c733ea25",
   "metadata": {},
   "source": [
    "# Semantic Search with Amazon OpenSearch "
   ]
  },
  {
   "cell_type": "code",
   "execution_count": 9,
   "id": "c1f1b4a6",
   "metadata": {},
   "outputs": [],
   "source": [
    "from sagemaker.huggingface import HuggingFaceModel\n",
    "import sagemaker \n",
    "\n",
    "role = sagemaker.get_execution_role()\n",
    "\n",
    "hub = {\n",
    "  'HF_MODEL_ID':'distilbert-base-uncased', \n",
    "  'HF_TASK':'feature-extraction'\n",
    "}\n",
    "\n",
    "# create Hugging Face Model Class\n",
    "huggingface_model = HuggingFaceModel(\n",
    "   env=hub,\n",
    "   role=role, \n",
    "   transformers_version=\"4.6\", # transformers version used\n",
    "   pytorch_version=\"1.7\", \n",
    "   py_version=\"py36\", \n",
    ")"
   ]
  },
  {
   "cell_type": "code",
   "execution_count": 2,
   "id": "74c75e2e",
   "metadata": {},
   "outputs": [
    {
     "name": "stdout",
     "output_type": "stream",
     "text": [
      "-----!"
     ]
    }
   ],
   "source": [
    "# deploy model to SageMaker Inference\n",
    "predictor = huggingface_model.deploy(\n",
    "   initial_instance_count=1,\n",
    "   instance_type=\"ml.m5.xlarge\"\n",
    ")"
   ]
  },
  {
   "cell_type": "code",
   "execution_count": 22,
   "id": "f213f06a",
   "metadata": {},
   "outputs": [],
   "source": [
    "import numpy\n",
    "import torch\n",
    "from transformers import DistilBertTokenizer\n",
    "\n",
    "#Mean Pooling - Take attention mask into account for correct averaging\n",
    "def mean_pooling(model_output, attention_mask):\n",
    "    token_embeddings = model_output #First element of model_output contains all token embeddings\n",
    "    input_mask_expanded = attention_mask.unsqueeze(-1).expand(token_embeddings.size()).float()\n",
    "    sum_embeddings = torch.sum(token_embeddings * input_mask_expanded, 1)\n",
    "    sum_mask = torch.clamp(input_mask_expanded.sum(1), min=1e-9)\n",
    "    return sum_embeddings / sum_mask\n",
    "\n",
    "def sentence_to_vector(raw_inputs):\n",
    "    model_name = \"distilbert-base-uncased\"\n",
    "    tokenizer = DistilBertTokenizer.from_pretrained(model_name)\n",
    "    inputs_tokens = tokenizer(raw_inputs, padding=True, return_tensors=\"pt\")\n",
    "    \n",
    "    data = {\n",
    "        \"inputs\": raw_inputs\n",
    "    }\n",
    "\n",
    "    # request to get vector data\n",
    "    response=predictor.predict(data)\n",
    "    response_tensor = torch.tensor(response)\n",
    "    \n",
    "    vector_result = mean_pooling(response_tensor, inputs_tokens['attention_mask'])\n",
    "    return vector_result\n"
   ]
  },
  {
   "cell_type": "code",
   "execution_count": 29,
   "id": "d722d020",
   "metadata": {},
   "outputs": [],
   "source": [
    "from opensearchpy import OpenSearch, RequestsHttpConnection, AWSV4SignerAuth\n",
    "import boto3\n",
    "\n",
    "host = 'search-ultrawarm-test-c7fjh5cny5zgtyxtxm7mwvsequ.us-east-2.es.amazonaws.com' \n",
    "region = 'us-east-2' \n",
    "\n",
    "credentials = boto3.Session().get_credentials()\n",
    "auth = AWSV4SignerAuth(credentials, region)\n",
    "index_name = 'nlp_pqa'\n",
    "\n",
    "es_client = OpenSearch(\n",
    "    hosts = [{'host': host, 'port': 443}],\n",
    "    http_auth = auth,\n",
    "    use_ssl = True,\n",
    "    verify_certs = True,\n",
    "    connection_class = RequestsHttpConnection\n",
    ")"
   ]
  },
  {
   "cell_type": "code",
   "execution_count": 31,
   "id": "ea118ecc",
   "metadata": {},
   "outputs": [],
   "source": [
    "def semantic_search(raw_inputs):\n",
    "    search_vector = sentence_to_vector(raw_inputs)[0].tolist()\n",
    "    query={\n",
    "        \"size\": 3,\n",
    "        \"query\": {\n",
    "            \"knn\": {\n",
    "                \"question_vector\":{\n",
    "                    \"vector\":search_vector,\n",
    "                    \"k\":3\n",
    "                }\n",
    "            }\n",
    "        }\n",
    "    }\n",
    "\n",
    "    res = es_client.search(index=\"nlp_pqa\", \n",
    "                       body=query,\n",
    "                       stored_fields=[\"question\",\"answer\"])\n",
    "    for hit in res['hits']['hits']:\n",
    "        print(\"score:\",hit['_score'])\n",
    "        print(\"question:\", hit['fields']['question'])\n",
    "        print(\"answer:\",hit['fields']['answer'])\n",
    "        print(\"\\n----------------------------------\\n\")\n",
    "        \n",
    "        "
   ]
  },
  {
   "cell_type": "code",
   "execution_count": 35,
   "id": "eb5dcb0b",
   "metadata": {},
   "outputs": [
    {
     "name": "stdout",
     "output_type": "stream",
     "text": [
      "score: 1.0\n",
      "question: ['Does this work with xbox?']\n",
      "answer: [\"Hello, this headphone doesn't work with Xbox (there's no USB port), but it can work on PC, laptop, PS4.\"]\n",
      "\n",
      "----------------------------------\n",
      "\n",
      "score: 0.3703665\n",
      "question: ['Does it work with Xbox?']\n",
      "answer: [\"Yes it should come with a adapter for xbox! Great headset very durable I've had mine for months and still going strong.\"]\n",
      "\n",
      "----------------------------------\n",
      "\n",
      "score: 0.3703665\n",
      "question: ['Does it work with Xbox?']\n",
      "answer: [\"No, this set is made for PC's and/or phones, mp3 players, etc. The Xbox One doesn't have a 3.5mm jack.\"]\n",
      "\n",
      "----------------------------------\n",
      "\n"
     ]
    }
   ],
   "source": [
    "raw_inputs = \"does this work with xbox?\"\n",
    "search_vector = sentence_to_vector(raw_inputs)[0].tolist()\n",
    "#print(search_vector)\n",
    "semantic_search(raw_inputs)"
   ]
  },
  {
   "cell_type": "code",
   "execution_count": 36,
   "id": "dec9c925",
   "metadata": {},
   "outputs": [
    {
     "name": "stdout",
     "output_type": "stream",
     "text": [
      "score: 0.1405858\n",
      "question: ['Can this be used with psp4']\n",
      "answer: ['It can if you buy the adapter https://smile.amazon.com/gp/product/B00CPEZ4J6/ref oh aui detailpage o02 s00?ie UTF8&psc 1']\n",
      "\n",
      "----------------------------------\n",
      "\n",
      "score: 0.110253416\n",
      "question: ['Does this work with ps4']\n",
      "answer: ['Yes it does']\n",
      "\n",
      "----------------------------------\n",
      "\n",
      "score: 0.110253416\n",
      "question: ['Does this work with PS4']\n",
      "answer: ['yes']\n",
      "\n",
      "----------------------------------\n",
      "\n"
     ]
    }
   ],
   "source": [
    "raw_inputs = \"Can this work with psp4\"\n",
    "semantic_search(raw_inputs)"
   ]
  },
  {
   "cell_type": "code",
   "execution_count": null,
   "id": "2219d653",
   "metadata": {},
   "outputs": [],
   "source": [
    "# delete endpoint\n",
    "#predictor.delete_endpoint()"
   ]
  }
 ],
 "metadata": {
  "kernelspec": {
   "display_name": "conda_pytorch_latest_p36",
   "language": "python",
   "name": "conda_pytorch_latest_p36"
  },
  "language_info": {
   "codemirror_mode": {
    "name": "ipython",
    "version": 3
   },
   "file_extension": ".py",
   "mimetype": "text/x-python",
   "name": "python",
   "nbconvert_exporter": "python",
   "pygments_lexer": "ipython3",
   "version": "3.6.13"
  }
 },
 "nbformat": 4,
 "nbformat_minor": 5
}
